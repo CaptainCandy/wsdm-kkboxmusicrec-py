{
 "cells": [
  {
   "cell_type": "code",
   "execution_count": 1,
   "metadata": {},
   "outputs": [],
   "source": [
    "#start\n",
    "import pandas as pd\n",
    "from sklearn.preprocessing import LabelEncoder"
   ]
  },
  {
   "cell_type": "code",
   "execution_count": 2,
   "metadata": {},
   "outputs": [
    {
     "name": "stderr",
     "output_type": "stream",
     "text": [
      "c:\\users\\tangx\\appdata\\local\\programs\\python\\python36\\lib\\site-packages\\numpy\\lib\\arraysetops.py:463: FutureWarning: elementwise comparison failed; returning scalar instead, but in the future will perform elementwise comparison\n  mask |= (ar1 == a)\n"
     ]
    },
    {
     "name": "stdout",
     "output_type": "stream",
     "text": [
      "                                           msno  \\\n0  FGtllVqz18RPiwJj/edr2gV78zirAiY/9SmYvia+kCg=   \n1  Xumu+NIjS6QYVxDS4/t3SawvJ7viT9hPKXmf0RtLNx8=   \n2  Xumu+NIjS6QYVxDS4/t3SawvJ7viT9hPKXmf0RtLNx8=   \n3  Xumu+NIjS6QYVxDS4/t3SawvJ7viT9hPKXmf0RtLNx8=   \n4  FGtllVqz18RPiwJj/edr2gV78zirAiY/9SmYvia+kCg=   \n5  FGtllVqz18RPiwJj/edr2gV78zirAiY/9SmYvia+kCg=   \n\n                                        song_id   source_screen_name  \\\n0  BBzumQNXUHKdEBOB7mAJuzok+IJA1c2Ryg/yzTF6tik=              Explore   \n1  bhp/MpSNoqoxOIB+/l8WPqu6jldth4DIpCm3ayXnJqM=  Local playlist more   \n2  JNWfrrC7zNN7BdMpsISKa4Mw+xVJYNnxXh3/Epw7QgY=  Local playlist more   \n3  2A87tzfnJTSWqD7gIZHisolhe4DMdzkbd6LzO1KHjNs=  Local playlist more   \n4  3qm6XTZ6MOCU11x8FIVbAGH5l5uMkT3/ZalWG1oo2Gc=              Explore   \n5  3Hg5kugV1S0wzEVLAEfqjIV5UHzb7bCrdBRQlGygLvU=              Explore   \n\n  source_system_tab      source_type  target  song_length genre_ids  \\\n0           explore  online-playlist     1.0     206471.0       359   \n1        my library   local-playlist     1.0     284584.0      1259   \n2        my library   local-playlist     1.0     225396.0      1259   \n3        my library   local-playlist     1.0     255512.0      1019   \n4           explore  online-playlist     1.0     187802.0      1011   \n5           explore  online-playlist     1.0     247803.0      1259   \n\n       artist_name                                 composer lyricist  \\\n0         Bastille                     Dan Smith| Mark Crew      NaN   \n1  Various Artists                                      NaN      NaN   \n2              Nas     N. Jones、W. Adams、J. Lordan、D. Ingle      NaN   \n3         Soundway                            Kwadwo Donkoh      NaN   \n4      Brett Young  Brett Young| Kelly Archer| Justin Ebach      NaN   \n5        Desiigner                 Sidney Selby| Adnan Khan      NaN   \n\n   language  city  bd  gender  registered_via registration_init_time  \\\n0      52.0     1   0     NaN               7             2012-01-02   \n1      52.0    13  24  female               9             2011-05-25   \n2      52.0    13  24  female               9             2011-05-25   \n3      -1.0    13  24  female               9             2011-05-25   \n4      52.0     1   0     NaN               7             2012-01-02   \n5      52.0     1   0     NaN               7             2012-01-02   \n\n  expiration_date  \n0      2017-10-05  \n1      2017-09-11  \n2      2017-09-11  \n3      2017-09-11  \n4      2017-10-05  \n5      2017-10-05  \n"
     ]
    }
   ],
   "source": [
    "date_columns = ['expiration_date', 'registration_init_time']\n",
    "\n",
    "train_data = pd.read_csv('E:/KKBOX/train.csv')\n",
    "test_data = pd.read_csv('E:/KKBOX/test.csv', index_col=0)\n",
    "item_data = pd.read_csv('E:/KKBOX/songs.csv')\n",
    "user_data = pd.read_csv('E:/KKBOX/members.csv', parse_dates=date_columns)\n",
    "\n",
    "all_data_org = pd.concat([train_data, test_data])\n",
    "all_data_org = all_data_org.merge(item_data, on='song_id', how='left')\n",
    "all_data_org = all_data_org.merge(user_data, on='msno', how='left')\n",
    "#print(all_data_org[0:6])\n",
    "#all_data_org.to_csv('E:/KKBOX/KKBOXNo3/all_data_org.csv')"
   ]
  },
  {
   "cell_type": "code",
   "execution_count": 3,
   "metadata": {},
   "outputs": [],
   "source": [
    "enc = LabelEncoder()\n",
    "\n",
    "for col in [\n",
    "    'msno', 'song_id', 'source_screen_name', \n",
    "    'source_system_tab', 'source_type', \n",
    "    'artist_name', 'composer', 'lyricist', 'gender'\n",
    "]:\n",
    "    all_data_org[col] = enc.fit_transform(all_data_org[col].fillna('nan'))\n",
    "    \n",
    "all_data_org['genre_ids'] = \n",
    "    \n",
    "for col in ['language', 'city', 'registered_via']:\n",
    "    all_data_org[col] = enc.fit_transform(all_data_org[col].fillna(-2)) "
   ]
  },
  {
   "cell_type": "code",
   "execution_count": 4,
   "metadata": {},
   "outputs": [
    {
     "name": "stdout",
     "output_type": "stream",
     "text": [
      "7377418\n"
     ]
    }
   ],
   "source": [
    "all_data_org['time'] = all_data_org.index / len(all_data_org)\n",
    "\n",
    "n = len(train_data)\n",
    "train_data = all_data_org[:n]\n",
    "test_data = all_data_org[n:]\n",
    "print(n)\n",
    "\n",
    "#train_data.to_hdf('data/train_data.hdf', key='wsdm')\n",
    "#test_data.to_hdf('data/test_data.hdf', key='wsdm')\n",
    "#train_data.to_hdf('E:/KKBOX/wsdm-kkboxmusicrec-py/train_data.hdf',key='candy')\n",
    "#test_data.to_hdf('E:/KKBOX/wsdm-kkboxmusicrec-py/test_data.hdf',key='candy')"
   ]
  },
  {
   "cell_type": "code",
   "execution_count": 5,
   "metadata": {},
   "outputs": [],
   "source": [
    "import numpy as np\n",
    "import matplotlib.pyplot as plt\n",
    "from sklearn.linear_model import LogisticRegression"
   ]
  },
  {
   "cell_type": "code",
   "execution_count": 7,
   "metadata": {},
   "outputs": [
    {
     "name": "stderr",
     "output_type": "stream",
     "text": [
      "c:\\users\\tangx\\appdata\\local\\programs\\python\\python36\\lib\\site-packages\\lightfm\\_lightfm_fast.py:9: UserWarning: LightFM was compiled without OpenMP support. Only a single thread will be used.\n  warnings.warn('LightFM was compiled without OpenMP support. '\n"
     ]
    }
   ],
   "source": [
    "from itertools import combinations\n",
    "\n",
    "import scipy.sparse as sp\n",
    "from scipy.sparse import coo_matrix\n",
    "from lightfm import LightFM"
   ]
  },
  {
   "cell_type": "code",
   "execution_count": 8,
   "metadata": {},
   "outputs": [],
   "source": [
    "date_cols = ['expiration_date', 'registration_init_time']\n",
    "\n",
    "train_data = pd.read_hdf('E:/KKBOX/wsdm-kkboxmusicrec-py/train_data.hdf', parse_dates=date_cols)\n",
    "test_data = pd.read_hdf('E:/KKBOX/wsdm-kkboxmusicrec-py/test_data.hdf', parse_dates=date_cols)"
   ]
  },
  {
   "cell_type": "code",
   "execution_count": 10,
   "metadata": {},
   "outputs": [],
   "source": [
    "all_data = pd.concat([train_data, test_data])"
   ]
  },
  {
   "cell_type": "code",
   "execution_count": 11,
   "metadata": {},
   "outputs": [
    {
     "data": {
      "text/plain": [
       "{'artist_name': 100000,\n 'city': 100,\n 'composer': 100000,\n 'gender': 10,\n 'genre_ids': 1000,\n 'language': 100,\n 'lyricist': 100000,\n 'msno': 100000,\n 'registered_via': 10,\n 'song_id': 1000000,\n 'source_screen_name': 100,\n 'source_system_tab': 10,\n 'source_type': 100}"
      ]
     },
     "execution_count": 11,
     "metadata": {},
     "output_type": "execute_result"
    }
   ],
   "source": [
    "df_test = test_data\n",
    "df_history_test = train_data\n",
    "\n",
    "df_trains = []\n",
    "df_history_trains = []\n",
    "\n",
    "n = len(test_data)\n",
    "shift = int(0.05*len(train_data))\n",
    "\n",
    "for i in range(2):\n",
    "    m = -i*shift\n",
    "    if m == 0:\n",
    "        m = None\n",
    "    df_trains.append(train_data[-(n + i*shift):m])\n",
    "    df_history_trains.append(train_data[:-(n + i*shift)])\n",
    "not_categorical_columns = [\n",
    "    'target', \n",
    "    'song_length', \n",
    "    'registration_init_time', \n",
    "    'expiration_date', \n",
    "    'time', \n",
    "    'bd',\n",
    "]\n",
    "categorical_columns = all_data.columns.difference(not_categorical_columns)\n",
    "\n",
    "orders = {}\n",
    "\n",
    "for col in categorical_columns:\n",
    "    orders[col] = 10 ** (int(np.log(all_data[col].max() + 1) / np.log(10)) + 1)\n",
    "\n",
    "orders"
   ]
  },
  {
   "cell_type": "code",
   "execution_count": null,
   "metadata": {},
   "outputs": [],
   "source": [
    "def get_group(df, cols):\n",
    "    \n",
    "    group = df[cols[0]].copy()\n",
    "    for col in cols[1:]:\n",
    "        group = group * orders[col] + df[col]\n",
    "        \n",
    "    return group\n",
    "\n",
    "\n",
    "def mean(df_history, df, cols):\n",
    "    \n",
    "    group = get_group(df, cols)\n",
    "    group_history = get_group(df_history, cols)\n",
    "    \n",
    "    mean_map = df_history.groupby(group_history).target.mean()\n",
    "    \n",
    "    return group.map(mean_map).fillna(-1)\n",
    "\n",
    "\n",
    "def count(df_history, df, cols):\n",
    "    \n",
    "    group = get_group(df, cols)\n",
    "    group_all = get_group(all_data, cols)\n",
    "    \n",
    "    count_map = group_all.value_counts()\n",
    "    \n",
    "    return group.map(count_map).fillna(0)"
   ]
  }
 ],
 "metadata": {
  "kernelspec": {
   "display_name": "Python 3",
   "language": "python",
   "name": "python3"
  },
  "language_info": {
   "codemirror_mode": {
    "name": "ipython",
    "version": 3
   },
   "file_extension": ".py",
   "mimetype": "text/x-python",
   "name": "python",
   "nbconvert_exporter": "python",
   "pygments_lexer": "ipython3",
   "version": "3.6.2"
  }
 },
 "nbformat": 4,
 "nbformat_minor": 2
}
