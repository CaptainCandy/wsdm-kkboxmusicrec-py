{
 "cells": [
  {
   "cell_type": "code",
   "execution_count": 2,
   "metadata": {},
   "outputs": [],
   "source": [
    "#start\n",
    "import pandas as pd\n",
    "from sklearn.preprocessing import LabelEncoder"
   ]
  },
  {
   "cell_type": "code",
   "execution_count": 2,
   "metadata": {},
   "outputs": [
    {
     "name": "stderr",
     "output_type": "stream",
     "text": [
      "c:\\users\\tangx\\appdata\\local\\programs\\python\\python36\\lib\\site-packages\\numpy\\lib\\arraysetops.py:463: FutureWarning: elementwise comparison failed; returning scalar instead, but in the future will perform elementwise comparison\n  mask |= (ar1 == a)\n"
     ]
    }
   ],
   "source": [
    "date_columns = ['expiration_date', 'registration_init_time']\n",
    "\n",
    "train_data = pd.read_csv('E:/KKBOX/train.csv')\n",
    "test_data = pd.read_csv('E:/KKBOX/test.csv', index_col=0)\n",
    "item_data = pd.read_csv('E:/KKBOX/songs.csv')\n",
    "user_data = pd.read_csv('E:/KKBOX/members.csv', parse_dates=date_columns)\n",
    "\n",
    "all_data_org = pd.concat([train_data, test_data])\n",
    "all_data_org = all_data_org.merge(item_data, on='song_id', how='left')\n",
    "all_data_org = all_data_org.merge(user_data, on='msno', how='left')\n",
    "#print(all_data_org[0:6])\n",
    "#all_data_org.to_csv('E:/KKBOX/KKBOXNo3/all_data_org.csv')"
   ]
  },
  {
   "cell_type": "code",
   "execution_count": 3,
   "metadata": {},
   "outputs": [],
   "source": [
    "enc = LabelEncoder()\n",
    "\n",
    "for col in [\n",
    "    'msno', 'song_id', 'source_screen_name', \n",
    "    'source_system_tab', 'source_type', \n",
    "    'artist_name', 'composer', 'lyricist', 'gender'\n",
    "]:\n",
    "    all_data_org[col] = enc.fit_transform(all_data_org[col].fillna('nan')\n",
    "    \n",
    "for col in ['language', 'city', 'registered_via']:\n",
    "    all_data_org[col] = enc.fit_transform(all_data_org[col].fillna(-2)) "
   ]
  },
  {
   "cell_type": "code",
   "execution_count": 4,
   "metadata": {},
   "outputs": [
    {
     "name": "stdout",
     "output_type": "stream",
     "text": [
      "7377418\n"
     ]
    }
   ],
   "source": [
    "all_data_org['time'] = all_data_org.index / len(all_data_org)\n",
    "\n",
    "n = len(train_data)\n",
    "train_data = all_data_org[:n]\n",
    "test_data = all_data_org[n:]\n",
    "print(n)\n",
    "\n",
    "#train_data.to_hdf('data/train_data.hdf', key='wsdm')\n",
    "#test_data.to_hdf('data/test_data.hdf', key='wsdm')\n",
    "#train_data.to_hdf('E:/KKBOX/wsdm-kkboxmusicrec-py/train_data.hdf',key='candy')\n",
    "#test_data.to_hdf('E:/KKBOX/wsdm-kkboxmusicrec-py/test_data.hdf',key='candy')"
   ]
  },
  {
   "cell_type": "code",
   "execution_count": 3,
   "metadata": {},
   "outputs": [],
   "source": [
    "import numpy as np\n",
    "import matplotlib.pyplot as plt\n",
    "from sklearn.linear_model import LogisticRegression"
   ]
  },
  {
   "cell_type": "code",
   "execution_count": 4,
   "metadata": {},
   "outputs": [
    {
     "name": "stderr",
     "output_type": "stream",
     "text": [
      "c:\\users\\tangx\\appdata\\local\\programs\\python\\python36\\lib\\site-packages\\lightfm\\_lightfm_fast.py:9: UserWarning: LightFM was compiled without OpenMP support. Only a single thread will be used.\n  warnings.warn('LightFM was compiled without OpenMP support. '\n"
     ]
    }
   ],
   "source": [
    "from itertools import combinations\n",
    "\n",
    "import scipy.sparse as sp\n",
    "from scipy.sparse import coo_matrix\n",
    "from lightfm import LightFM"
   ]
  },
  {
   "cell_type": "code",
   "execution_count": 5,
   "metadata": {},
   "outputs": [],
   "source": [
    "date_cols = ['expiration_date', 'registration_init_time']\n",
    "\n",
    "train_data = pd.read_hdf('E:/KKBOX/wsdm-kkboxmusicrec-py/train_data.hdf', parse_dates=date_cols)\n",
    "test_data = pd.read_hdf('E:/KKBOX/wsdm-kkboxmusicrec-py/test_data.hdf', parse_dates=date_cols)"
   ]
  },
  {
   "cell_type": "code",
   "execution_count": 8,
   "metadata": {},
   "outputs": [],
   "source": [
    "all_data=pd.read_csv('E:/KKBOX/wsdm-kkboxmusicrec-py/all_data.csv')\n",
    "#all_data = pd.concat([train_data, test_data])"
   ]
  },
  {
   "cell_type": "code",
   "execution_count": 9,
   "metadata": {},
   "outputs": [
    {
     "data": {
      "text/plain": [
       "{'Unnamed: 0': 10000000,\n 'artist_name': 100000,\n 'city': 100,\n 'composer': 100000,\n 'gender': 10,\n 'genre_ids': 1000,\n 'language': 100,\n 'lyricist': 100000,\n 'msno': 100000,\n 'registered_via': 10,\n 'song_id': 1000000,\n 'source_screen_name': 100,\n 'source_system_tab': 10,\n 'source_type': 100}"
      ]
     },
     "execution_count": 9,
     "metadata": {},
     "output_type": "execute_result"
    }
   ],
   "source": [
    "df_test = test_data\n",
    "df_history_test = train_data\n",
    "\n",
    "df_trains = []\n",
    "df_history_trains = []\n",
    "\n",
    "n = len(test_data)\n",
    "shift = int(0.05*len(train_data))\n",
    "\n",
    "for i in range(2):\n",
    "    m = -i*shift\n",
    "    if m == 0:\n",
    "        m = None\n",
    "    df_trains.append(train_data[-(n + i*shift):m])\n",
    "    df_history_trains.append(train_data[:-(n + i*shift)])\n",
    "not_categorical_columns = [\n",
    "    'target', \n",
    "    'song_length', \n",
    "    'registration_init_time', \n",
    "    'expiration_date', \n",
    "    'time', \n",
    "    'bd',\n",
    "]\n",
    "categorical_columns = all_data.columns.difference(not_categorical_columns)\n",
    "\n",
    "orders = {}\n",
    "\n",
    "for col in categorical_columns:\n",
    "    orders[col] = 10 ** (int(np.log(all_data[col].max() + 1) / np.log(10)) + 1)\n",
    "\n",
    "orders"
   ]
  },
  {
   "cell_type": "code",
   "execution_count": 69,
   "metadata": {},
   "outputs": [
    {
     "name": "stdout",
     "output_type": "stream",
     "text": [
      "      msno  song_id  source_screen_name  source_system_tab  source_type  \\\n800  34303   373882                   8                  3            4   \n801  34303    94001                   8                  3            4   \n802  14831   221923                   8                  3            3   \n803  29979   389392                   8                  3            4   \n804  34303    90017                   8                  3            4   \n805  34303   108836                   8                  3            4   \n\n     target  song_length  genre_ids  artist_name  composer  lyricist  \\\n800     1.0     365165.0        371        43379     32131     10660   \n801     1.0     227253.0        371        44392     29339     24946   \n802     1.0     264150.0        371        42671     79748     30743   \n803     1.0     243356.0        371        42525     74276     26024   \n804     1.0     305946.0        371        43379     32131     10660   \n805     1.0     261387.0        371        44392     66795     23131   \n\n     language  city  bd  gender  registered_via registration_init_time  \\\n800         2    11  28       1               3             2010-10-06   \n801         2    11  28       1               3             2010-10-06   \n802         2     3  36       1               3             2010-09-03   \n803         2     0   0       2               2             2011-02-06   \n804         2    11  28       1               3             2010-10-06   \n805         2    11  28       1               3             2010-10-06   \n\n    expiration_date      time  \n800      2017-10-18  0.000081  \n801      2017-10-18  0.000081  \n802      2017-09-26  0.000081  \n803      2017-09-16  0.000081  \n804      2017-10-18  0.000081  \n805      2017-10-18  0.000081  \n"
     ]
    }
   ],
   "source": [
    "print(df_history_trains[0][800:806])"
   ]
  },
  {
   "cell_type": "code",
   "execution_count": 22,
   "metadata": {},
   "outputs": [
    {
     "data": {
      "text/plain": [
       "4820628    1819822\n4820629    1819817\n4820630    3427800\n4820631    3427800\n4820632    3427800\n4820633    3427800\n4820634    3427800\n4820635    3427800\n4820636    3427808\n4820637    3427808\n4820638    3427800\n4820639    2638408\n4820640     798708\n4820641     798708\n4820642     798708\n4820643     798708\n4820644     798708\n4820645     798708\n4820646     798708\n4820647     798708\n4820648     798708\n4820649     798708\n4820650     798708\n4820651     798708\n4820652     798708\n4820653     798708\n4820654     798708\n4820655     135304\n4820656      96008\n4820657     800311\n            ...   \n7377388    2568608\n7377389    2568608\n7377390    3006908\n7377391    1852008\n7377392     868500\n7377393     868500\n7377394    2737708\n7377395    2737708\n7377396    2737708\n7377397     723408\n7377398    1521008\n7377399    1521008\n7377400    1521008\n7377401    1910908\n7377402     761122\n7377403     761122\n7377404     761122\n7377405    2943108\n7377406    3093811\n7377407    1448608\n7377408    2854017\n7377409    2854017\n7377410    2517608\n7377411    2517608\n7377412    2517608\n7377413     472608\n7377414    2040217\n7377415    2040217\n7377416     137105\n7377417     137105\nLength: 2556790, dtype: int64"
      ]
     },
     "execution_count": 22,
     "metadata": {},
     "output_type": "execute_result"
    }
   ],
   "source": [
    "def get_group(df, cols): #获取二元组或三元组的唯一编号\n",
    "    group = df[cols[0]].copy()\n",
    "    for col in cols[1:]:\n",
    "        group = group * orders[col] + df[col]\n",
    "  \n",
    "    return group\n",
    "\n",
    "get_group(df_trains[0],list(['msno','source_screen_name']))"
   ]
  },
  {
   "cell_type": "code",
   "execution_count": 52,
   "metadata": {},
   "outputs": [
    {
     "data": {
      "text/plain": [
       "4820628    0.000000\n4820629    0.000000\n4820630    0.476190\n4820631    0.476190\n4820632    0.476190\n4820633    0.476190\n4820634    0.476190\n4820635    0.476190\n4820636    0.151515\n4820637    0.151515\n4820638    0.476190\n4820639    0.890244\n4820640    0.931818\n4820641    0.931818\n4820642    0.931818\n4820643    0.931818\n4820644    0.931818\n4820645    0.931818\n4820646    0.931818\n4820647    0.931818\n4820648    0.931818\n4820649    0.931818\n4820650    0.931818\n4820651    0.931818\n4820652    0.931818\n4820653    0.931818\n4820654    0.931818\n4820655   -1.000000\n4820656    0.575342\n4820657    0.352941\n             ...   \n7377388   -1.000000\n7377389   -1.000000\n7377390    0.812500\n7377391    0.851351\n7377392    0.250000\n7377393    0.250000\n7377394    0.285714\n7377395    0.285714\n7377396    0.285714\n7377397    0.824295\n7377398    0.616667\n7377399    0.616667\n7377400    0.616667\n7377401   -1.000000\n7377402   -1.000000\n7377403   -1.000000\n7377404   -1.000000\n7377405    0.423077\n7377406    0.866667\n7377407    0.802469\n7377408    0.000000\n7377409    0.000000\n7377410   -1.000000\n7377411   -1.000000\n7377412   -1.000000\n7377413    0.778894\n7377414   -1.000000\n7377415   -1.000000\n7377416    0.869565\n7377417    0.869565\nLength: 2556790, dtype: float64"
      ]
     },
     "execution_count": 52,
     "metadata": {},
     "output_type": "execute_result"
    }
   ],
   "source": [
    "def mean(df_history, df, cols):\n",
    "    \n",
    "    group = get_group(df, cols)\n",
    "    group_history = get_group(df_history, cols)\n",
    "    #print(group_history)\n",
    "    mean_map = df_history.groupby(group_history).target.mean() #把匹配的两列相同的属性算作一组，每一组计算均值\n",
    "    #print(df_history.groupby(group_history).mean())\n",
    "    #print(mean_map)\n",
    "    return group.map(mean_map).fillna(-1) \n",
    "\n",
    "mean(df_history_trains[0],df_trains[0],list(['msno','source_screen_name','source_type']))"
   ]
  },
  {
   "cell_type": "code",
   "execution_count": 47,
   "metadata": {},
   "outputs": [],
   "source": [
    "group = get_group(df_trains[0], list(['msno','source_screen_name','source_type']))\n",
    "group_history = get_group(df_history_trains[0], list(['msno','source_screen_name','source_type']))\n",
    "#print(group_history)\n",
    "mean_map = df_history_trains[0].groupby(group_history).target.mean()"
   ]
  },
  {
   "cell_type": "code",
   "execution_count": null,
   "metadata": {},
   "outputs": [],
   "source": [
    "def get_group(df, cols): #获取二元组或三元组\n",
    "    \n",
    "    group = df[cols[0]].copy()\n",
    "    for col in cols[1:]:\n",
    "        group = group * orders[col] + df[col]\n",
    "        \n",
    "    return group\n",
    "\n",
    "\n",
    "def mean(df_history, df, cols): #\n",
    "    \n",
    "    group = get_group(df, cols)\n",
    "    group_history = get_group(df_history, cols)\n",
    "    \n",
    "    mean_map = df_history.groupby(group_history).target.mean()\n",
    "    \n",
    "    return group.map(mean_map).fillna(-1)\n",
    "\n",
    "\n",
    "def count(df_history, df, cols):\n",
    "    \n",
    "    group = get_group(df, cols)\n",
    "    group_all = get_group(all_data, cols)\n",
    "    \n",
    "    count_map = group_all.value_counts()\n",
    "    \n",
    "    return group.map(count_map).fillna(0)"
   ]
  },
  {
   "cell_type": "code",
   "execution_count": null,
   "metadata": {},
   "outputs": [],
   "source": [
    "def col_name(cols, func):\n",
    "    return '_'.join(cols) + '_' + func.__name__\n",
    "\n",
    "\n",
    "def create_features(df, df_history):\n",
    "    \n",
    "    X = pd.DataFrame()\n",
    "    \n",
    "    for num_col in [1, 2]:\n",
    "        for cols in combinations(categorical_columns, num_col):\n",
    "            for func in [\n",
    "                mean, \n",
    "                count, \n",
    "                time_to_next_heard, \n",
    "                count_from_future,\n",
    "                last_time_diff, \n",
    "                count_from_past\n",
    "            ]:\n",
    "                X[col_name(cols, func)] = func(df_history, df, list(cols))\n",
    "    \n",
    "    for cols in combinations(categorical_columns, 3):\n",
    "        for func in [mean, count]:\n",
    "            X[col_name(cols, func)] = func(df_history, df, list(cols))\n",
    "        if 'msno' in cols:\n",
    "            for func in [time_to_next_heard, last_time_diff, count_from_past]:\n",
    "                X[col_name(cols, func)] = func(df_history, df, list(cols))\n",
    "\n",
    "    for cols in [\n",
    "         ['msno'], \n",
    "         ['msno', 'source_type'], \n",
    "         ['msno', 'genre_ids'], \n",
    "         ['msno', 'artist_name'], \n",
    "         ['msno', 'composer'], \n",
    "         ['msno', 'language'], \n",
    "         ['song_id']\n",
    "     ]:\n",
    "        X[col_name(cols, regression)] = regression(df_history, df, cols)\n",
    "\n",
    "    for cols in [\n",
    "        ['msno'], \n",
    "        ['msno', 'genre_ids'],\n",
    "        ['msno', 'composer'], \n",
    "        ['msno', 'language'], \n",
    "        ['msno','artist_name']\n",
    "    ]:\n",
    "        X[col_name(cols, time_from_prev_heard)] = time_from_prev_heard(df_history, df, cols)\n",
    "\n",
    "    for col in ['song_length', 'bd']:\n",
    "        X[col] = df[col]\n",
    "        \n",
    "    for col in ['expiration_date', 'registration_init_time']:\n",
    "        X[col] = df[col].apply(lambda x: x.toordinal())\n",
    "        \n",
    "    X['part_song_listened'] = df['song_length'] / X['msno_time_to_next_heard'] \n",
    "    X['time_from_test_period'] = np.arange(len(df))\n",
    "    X['part_of_unique_song'] = part_of_unique_song(df)\n",
    "    \n",
    "    X['matrix_factorization'] = matrix_factorization(df, df_history)\n",
    "    \n",
    "    for i in [500000, 2000000]:\n",
    "        for cols in [\n",
    "             ['msno'], \n",
    "             ['msno', 'source_type'], \n",
    "             ['msno', 'genre_ids'], \n",
    "             ['msno', 'artist_name'], \n",
    "             ['msno', 'composer'], \n",
    "             ['msno', 'language'], \n",
    "             ['song_id']\n",
    "        ]:\n",
    "            X[col_name(cols, mean) + str(i)] = mean(df_history[-i:], df, cols)\n",
    "    \n",
    "    return X"
   ]
  }
 ],
 "metadata": {
  "kernelspec": {
   "display_name": "Python 3",
   "language": "python",
   "name": "python3"
  },
  "language_info": {
   "codemirror_mode": {
    "name": "ipython",
    "version": 3
   },
   "file_extension": ".py",
   "mimetype": "text/x-python",
   "name": "python",
   "nbconvert_exporter": "python",
   "pygments_lexer": "ipython3",
   "version": "3.6.2"
  }
 },
 "nbformat": 4,
 "nbformat_minor": 2
}
